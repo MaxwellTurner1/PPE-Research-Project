{
 "cells": [
  {
   "cell_type": "code",
   "execution_count": 2,
   "id": "9782b5a7",
   "metadata": {},
   "outputs": [],
   "source": [
    "import pandas as pd"
   ]
  },
  {
   "cell_type": "code",
   "execution_count": 7,
   "id": "2e2d2275",
   "metadata": {},
   "outputs": [],
   "source": [
    "data = pd.read_csv('Data/merged_df_with_sentiment.csv')"
   ]
  },
  {
   "cell_type": "code",
   "execution_count": 10,
   "id": "b0d27039",
   "metadata": {},
   "outputs": [
    {
     "data": {
      "text/html": [
       "<div>\n",
       "<style scoped>\n",
       "    .dataframe tbody tr th:only-of-type {\n",
       "        vertical-align: middle;\n",
       "    }\n",
       "\n",
       "    .dataframe tbody tr th {\n",
       "        vertical-align: top;\n",
       "    }\n",
       "\n",
       "    .dataframe thead th {\n",
       "        text-align: right;\n",
       "    }\n",
       "</style>\n",
       "<table border=\"1\" class=\"dataframe\">\n",
       "  <thead>\n",
       "    <tr style=\"text-align: right;\">\n",
       "      <th></th>\n",
       "      <th>Title</th>\n",
       "      <th>URL</th>\n",
       "      <th>Article_Text</th>\n",
       "      <th>Publication Date</th>\n",
       "      <th>Source</th>\n",
       "      <th>Sentiment Score</th>\n",
       "    </tr>\n",
       "  </thead>\n",
       "  <tbody>\n",
       "    <tr>\n",
       "      <th>0</th>\n",
       "      <td>Bank of England governor says don't underestim...</td>\n",
       "      <td>https://www.bbc.co.uk/news/business-67474899</td>\n",
       "      <td>Andrew Bailey told MPs that Bank policymakers ...</td>\n",
       "      <td>2023-11-21</td>\n",
       "      <td>BBC</td>\n",
       "      <td>0.249234</td>\n",
       "    </tr>\n",
       "    <tr>\n",
       "      <th>1</th>\n",
       "      <td>Rishi Sunak: 'We've halved inflation' and othe...</td>\n",
       "      <td>https://www.bbc.co.uk/news/uk-politics-67475281</td>\n",
       "      <td>We've been looking at some of his claims. Rish...</td>\n",
       "      <td>2023-11-20</td>\n",
       "      <td>BBC</td>\n",
       "      <td>0.150736</td>\n",
       "    </tr>\n",
       "    <tr>\n",
       "      <th>2</th>\n",
       "      <td>Rachel Reeves: Labour would increase benefits ...</td>\n",
       "      <td>https://www.bbc.co.uk/news/uk-politics-67466971</td>\n",
       "      <td>But before the champagne corks pop, everyone s...</td>\n",
       "      <td>2023-11-16</td>\n",
       "      <td>BBC</td>\n",
       "      <td>0.209527</td>\n",
       "    </tr>\n",
       "    <tr>\n",
       "      <th>3</th>\n",
       "      <td>What a falling inflation rate means for your f...</td>\n",
       "      <td>https://www.bbc.co.uk/news/business-67426526</td>\n",
       "      <td>When inflation started to accelerate early in ...</td>\n",
       "      <td>2023-11-15</td>\n",
       "      <td>BBC</td>\n",
       "      <td>0.396906</td>\n",
       "    </tr>\n",
       "    <tr>\n",
       "      <th>4</th>\n",
       "      <td>Why inflation is falling but prices are still ...</td>\n",
       "      <td>https://www.bbc.co.uk/news/business-64290160</td>\n",
       "      <td>The government had committed to better protect...</td>\n",
       "      <td>2023-11-15</td>\n",
       "      <td>BBC</td>\n",
       "      <td>0.250206</td>\n",
       "    </tr>\n",
       "  </tbody>\n",
       "</table>\n",
       "</div>"
      ],
      "text/plain": [
       "                                               Title  \\\n",
       "0  Bank of England governor says don't underestim...   \n",
       "1  Rishi Sunak: 'We've halved inflation' and othe...   \n",
       "2  Rachel Reeves: Labour would increase benefits ...   \n",
       "3  What a falling inflation rate means for your f...   \n",
       "4  Why inflation is falling but prices are still ...   \n",
       "\n",
       "                                               URL  \\\n",
       "0     https://www.bbc.co.uk/news/business-67474899   \n",
       "1  https://www.bbc.co.uk/news/uk-politics-67475281   \n",
       "2  https://www.bbc.co.uk/news/uk-politics-67466971   \n",
       "3     https://www.bbc.co.uk/news/business-67426526   \n",
       "4     https://www.bbc.co.uk/news/business-64290160   \n",
       "\n",
       "                                        Article_Text Publication Date Source  \\\n",
       "0  Andrew Bailey told MPs that Bank policymakers ...       2023-11-21    BBC   \n",
       "1  We've been looking at some of his claims. Rish...       2023-11-20    BBC   \n",
       "2  But before the champagne corks pop, everyone s...       2023-11-16    BBC   \n",
       "3  When inflation started to accelerate early in ...       2023-11-15    BBC   \n",
       "4  The government had committed to better protect...       2023-11-15    BBC   \n",
       "\n",
       "   Sentiment Score  \n",
       "0         0.249234  \n",
       "1         0.150736  \n",
       "2         0.209527  \n",
       "3         0.396906  \n",
       "4         0.250206  "
      ]
     },
     "execution_count": 10,
     "metadata": {},
     "output_type": "execute_result"
    }
   ],
   "source": [
    "# drop the first column\n",
    "data = data.drop(data.columns[0], axis=1)\n",
    "data.head()"
   ]
  },
  {
   "cell_type": "code",
   "execution_count": 14,
   "id": "af7039e9",
   "metadata": {},
   "outputs": [
    {
     "name": "stdout",
     "output_type": "stream",
     "text": [
      "Number of BBC articles: 233\n",
      "Number of Guardian articles: 1618\n",
      "Number of Telegraph articles: 1759\n"
     ]
    }
   ],
   "source": [
    "# count number of bbc articles\n",
    "bbc_count = data[data['Source'] == 'BBC'].shape[0]\n",
    "print(f\"Number of BBC articles: {bbc_count}\")\n",
    "# count number of guardian articles\n",
    "guardian_count = data[data['Source'] == 'Guardian'].shape[0]\n",
    "print(f\"Number of Guardian articles: {guardian_count}\")\n",
    "# count number of telegraph articles\n",
    "telegraph_count = data[data['Source'] == 'Telegraph'].shape[0]\n",
    "print(f\"Number of Telegraph articles: {telegraph_count}\")\n"
   ]
  },
  {
   "cell_type": "code",
   "execution_count": 38,
   "id": "f0712856",
   "metadata": {},
   "outputs": [
    {
     "data": {
      "image/png": "[encoded data removed]",
      "text/plain": [
       "<Figure size 1000x600 with 1 Axes>"
      ]
     },
     "metadata": {},
     "output_type": "display_data"
    }
   ],
   "source": [
    "# plot sentiment distribution\n",
    "import matplotlib.pyplot as plt\n",
    "import seaborn as sns\n",
    "plt.figure(figsize=(10, 6))\n",
    "sns.histplot(data['Sentiment Score'], bins=20, kde=True)\n",
    "plt.title('Sentiment Distribution')\n",
    "plt.xlabel('Sentiment')\n",
    "plt.ylabel('Frequency')\n",
    "plt.show()\n"
   ]
  },
  {
   "cell_type": "code",
   "execution_count": null,
   "id": "96b84f7d",
   "metadata": {},
   "outputs": [],
   "source": []
  }
 ],
 "metadata": {
  "kernelspec": {
   "display_name": "ds202",
   "language": "python",
   "name": "python3"
  },
  "language_info": {
   "codemirror_mode": {
    "name": "ipython",
    "version": 3
   },
   "file_extension": ".py",
   "mimetype": "text/x-python",
   "name": "python",
   "nbconvert_exporter": "python",
   "pygments_lexer": "ipython3",
   "version": "3.9.18"
  }
 },
 "nbformat": 4,
 "nbformat_minor": 5
}
